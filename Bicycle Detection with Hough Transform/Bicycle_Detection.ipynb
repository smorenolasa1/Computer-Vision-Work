{
 "cells": [
  {
   "cell_type": "markdown",
   "metadata": {},
   "source": [
    "I loaded an image containing a side view of a bicycle with clear lines and circles. Then I used the Hough line and Hough circle functions in OpenCV to detect the lines and circles on the bike."
   ]
  },
  {
   "cell_type": "markdown",
   "metadata": {},
   "source": [
    "For the first and second images:"
   ]
  },
  {
   "cell_type": "code",
   "execution_count": 145,
   "metadata": {},
   "outputs": [],
   "source": [
    "import cv2\n",
    "import numpy as np"
   ]
  },
  {
   "cell_type": "code",
   "execution_count": 158,
   "metadata": {},
   "outputs": [],
   "source": [
    "# Load the image\n",
    "image_path = 'bicicleimg.png'\n",
    "image = cv2.imread(image_path)"
   ]
  },
  {
   "cell_type": "code",
   "execution_count": 159,
   "metadata": {},
   "outputs": [],
   "source": [
    "# Step 2: Preprocess the image\n",
    "# Convert to grayscale\n",
    "gray_image = cv2.cvtColor(image, cv2.COLOR_BGR2GRAY)\n",
    "# Use Canny edge detector to find edges\n",
    "edges = cv2.Canny(gray_image, 50, 150, apertureSize=3)"
   ]
  },
  {
   "cell_type": "code",
   "execution_count": 160,
   "metadata": {},
   "outputs": [],
   "source": [
    "# Step 3: Detect lines using HoughLinesP\n",
    "# Apply Hough Line Transform\n",
    "lines = cv2.HoughLinesP(edges, 1, np.pi / 180, threshold=80, minLineLength=100, maxLineGap=10)\n",
    "\n",
    "# Draw the lines on the original image\n",
    "if lines is not None:\n",
    "    for line in lines:\n",
    "        x1, y1, x2, y2 = line[0]\n",
    "        cv2.line(image, (x1, y1), (x2, y2), (0, 255, 0), 2)"
   ]
  },
  {
   "cell_type": "code",
   "execution_count": 161,
   "metadata": {},
   "outputs": [],
   "source": [
    "# Step 4: Detect circles\n",
    "# Apply Hough Circle Transform\n",
    "circles = cv2.HoughCircles(gray_image, cv2.HOUGH_GRADIENT, dp=1, minDist=100,\n",
    "                           param1=50, param2=50, minRadius=30, maxRadius=90)\n",
    "\n",
    "# Draw the circles on the original image\n",
    "if circles is not None:\n",
    "    circles = np.uint16(np.around(circles))\n",
    "    for i in circles[0, :]:\n",
    "        center = (i[0], i[1])  # circle center\n",
    "        radius = i[2]  # circle radius\n",
    "        cv2.circle(image, center, radius, (255, 0, 0), 3)"
   ]
  },
  {
   "cell_type": "code",
   "execution_count": 162,
   "metadata": {},
   "outputs": [
    {
     "data": {
      "text/plain": [
       "'second_detected_bicycle_lines_circles.png'"
      ]
     },
     "execution_count": 162,
     "metadata": {},
     "output_type": "execute_result"
    }
   ],
   "source": [
    "# Step 5 and 6: Display the result\n",
    "output_path = '1st_try_bicicleimg.png'\n",
    "cv2.imwrite(output_path, image)\n",
    "output_path\n"
   ]
  },
  {
   "cell_type": "markdown",
   "metadata": {},
   "source": [
    "Modified the code for the second image"
   ]
  },
  {
   "cell_type": "code",
   "execution_count": 188,
   "metadata": {},
   "outputs": [
    {
     "data": {
      "text/plain": [
       "'4rd_try_bicicleimg2.png'"
      ]
     },
     "execution_count": 188,
     "metadata": {},
     "output_type": "execute_result"
    }
   ],
   "source": [
    "import cv2\n",
    "import numpy as np\n",
    "\n",
    "# Load the image\n",
    "image_path = 'bicicleimg2.png'\n",
    "image = cv2.imread(image_path)\n",
    "\n",
    "# Convert to grayscale\n",
    "gray_image = cv2.cvtColor(image, cv2.COLOR_BGR2GRAY)\n",
    "\n",
    "# Apply Gaussian Blur\n",
    "blurred_image = cv2.GaussianBlur(gray_image, (9, 9), 0)\n",
    "\n",
    "# Apply Hough Circle Transform\n",
    "detected_circles = cv2.HoughCircles(blurred_image, \n",
    "                                    cv2.HOUGH_GRADIENT, dp=1, minDist=100,\n",
    "                                    param1=200, param2=100,  \n",
    "                                    minRadius=30, maxRadius=500)  \n",
    "# Draw the detected circles on the original image\n",
    "if detected_circles is not None:\n",
    "    detected_circles = np.uint16(np.around(detected_circles))\n",
    "    for circle in detected_circles[0, :]:\n",
    "        center = (circle[0], circle[1])  # x, y center of the circle\n",
    "        radius = circle[2]  # Radius of the circle\n",
    "        cv2.circle(image, center, radius, (255, 0, 0), 3)\n",
    "        cv2.circle(image, center, 2, (0, 255, 0), 3)  # Draw center of the circle\n",
    "\n",
    "# Apply Canny edge detection to find edges in the image for line detection\n",
    "edges = cv2.Canny(blurred_image, 50, 150, apertureSize=3)\n",
    "\n",
    "# Apply Hough Line Transform to find lines\n",
    "lines = cv2.HoughLinesP(edges, 1, np.pi / 180, threshold=50, minLineLength=50, maxLineGap=10)\n",
    "if lines is not None:\n",
    "    for line in lines:\n",
    "        x1, y1, x2, y2 = line[0]\n",
    "        cv2.line(image, (x1, y1), (x2, y2), (0, 255, 0), 2)\n",
    "\n",
    "# Save the result\n",
    "final_output_path = '4rd_try_bicicleimg2.png'\n",
    "cv2.imwrite(final_output_path, image)\n",
    "\n",
    "final_output_path\n"
   ]
  }
 ],
 "metadata": {
  "kernelspec": {
   "display_name": "Python 3",
   "language": "python",
   "name": "python3"
  },
  "language_info": {
   "codemirror_mode": {
    "name": "ipython",
    "version": 3
   },
   "file_extension": ".py",
   "mimetype": "text/x-python",
   "name": "python",
   "nbconvert_exporter": "python",
   "pygments_lexer": "ipython3",
   "version": "3.11.8"
  }
 },
 "nbformat": 4,
 "nbformat_minor": 2
}
