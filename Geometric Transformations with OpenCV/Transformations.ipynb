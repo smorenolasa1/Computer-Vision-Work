{
 "cells": [
  {
   "cell_type": "markdown",
   "metadata": {},
   "source": [
    "I wrote a python script that takes as inputs:\n",
    "\n",
    "-The 2D coordinates of the top left corner of a square\n",
    "\n",
    "-The length of the square side\n",
    "\n",
    "\n",
    "\n",
    "I used OpenCV and Numpy to display a square based on defined inputs and it´s applied arbitrary transformations including:\n",
    "\n",
    "-Translation\n",
    "\n",
    "-Euclidean\n",
    "\n",
    "-Affine\n",
    "\n",
    "-Homography"
   ]
  },
  {
   "cell_type": "code",
   "execution_count": 10,
   "metadata": {},
   "outputs": [],
   "source": [
    "import cv2\n",
    "import numpy as np"
   ]
  },
  {
   "cell_type": "markdown",
   "metadata": {},
   "source": [
    "Function to draw the square based on the input coordinates and side length"
   ]
  },
  {
   "cell_type": "code",
   "execution_count": 11,
   "metadata": {},
   "outputs": [],
   "source": [
    "def draw_square(image, points, color=(255, 0, 0), thickness=2):\n",
    "    \"\"\"\n",
    "    Draws a square on the image using the provided points.\n",
    "    \n",
    "    Parameters:\n",
    "    - image: The image on which to draw.\n",
    "    - points: A numpy array of points defining the square's corners.\n",
    "    - color: The color of the square in BGR format.\n",
    "    - thickness: The thickness of the lines used to draw the square.\n",
    "    \"\"\"\n",
    "    points = points.astype(int)  # Convert points to integer for pixel coordinates\n",
    "    for i in range(4):  # Loop over the 4 edges\n",
    "        # Draw line between each pair of consecutive points\n",
    "        cv2.line(image, tuple(points[i]), tuple(points[(i + 1) % 4]), color, thickness)\n",
    "\n"
   ]
  },
  {
   "cell_type": "code",
   "execution_count": 12,
   "metadata": {},
   "outputs": [],
   "source": [
    "def apply_transformation(points, transformation_matrix):\n",
    "    \"\"\"\n",
    "    Applies a geometric transformation to the square points.\n",
    "    \n",
    "    Parameters:\n",
    "    - points: A numpy array of points defining the square's corners.\n",
    "    - transformation_matrix: The transformation matrix to apply.\n",
    "    \n",
    "    Returns:\n",
    "    - Transformed points as a numpy array.\n",
    "    \"\"\"\n",
    "    # Convert points to homogeneous coordinates for transformation\n",
    "    points_homogeneous = np.hstack((points, np.ones((points.shape[0], 1))))\n",
    "    # Apply the transformation matrix to the points\n",
    "    transformed_points = np.dot(transformation_matrix, points_homogeneous.T).T\n",
    "    # Convert back from homogeneous coordinates\n",
    "    return transformed_points[:, :2]"
   ]
  },
  {
   "cell_type": "markdown",
   "metadata": {},
   "source": [
    "Image:"
   ]
  },
  {
   "cell_type": "code",
   "execution_count": 13,
   "metadata": {},
   "outputs": [],
   "source": [
    "# Initialize an image with dimensions 600x800 and three color channels (black)\n",
    "image = np.zeros((600, 800, 3), dtype=np.uint8)\n",
    "\n",
    "# Define square's initial position and side length\n",
    "top_left = np.array([150, 200])  # Top-left corner of the square\n",
    "side_length = 100  # Length of the side of the square\n",
    "# Calculate the remaining corners based on the top left and side length\n",
    "square_points = np.array([\n",
    "    top_left,\n",
    "    top_left + [side_length, 0],  # Top-right corner\n",
    "    top_left + [side_length, side_length],  # Bottom-right corner\n",
    "    top_left + [0, side_length],  # Bottom-left corner\n",
    "])\n",
    "\n",
    "# Draw the original square in blue\n",
    "draw_square(image, square_points, (200, 0, 0))"
   ]
  },
  {
   "cell_type": "markdown",
   "metadata": {},
   "source": [
    "1) Translation"
   ]
  },
  {
   "cell_type": "code",
   "execution_count": 14,
   "metadata": {},
   "outputs": [],
   "source": [
    "translation_matrix = np.array([\n",
    "    [1, 0, 100],  # Move right by 100 pixels\n",
    "    [0, 1, 50],   # Move down by 50 pixels\n",
    "    [0, 0, 1]     # Homogeneous coordinate\n",
    "])\n",
    "# Apply translation and draw the translated square in green\n",
    "translated_points = apply_transformation(square_points, translation_matrix)\n",
    "draw_square(image, translated_points, (0, 255, 0))"
   ]
  },
  {
   "cell_type": "markdown",
   "metadata": {},
   "source": [
    "Euclidean (Rotation + Translation):"
   ]
  },
  {
   "cell_type": "code",
   "execution_count": 15,
   "metadata": {},
   "outputs": [],
   "source": [
    "angle = np.radians(45)  # Convert angle from degrees to radians\n",
    "# Rotation matrix for 45 degrees\n",
    "rotation_matrix = np.array([\n",
    "    [np.cos(angle), -np.sin(angle), 0],\n",
    "    [np.sin(angle), np.cos(angle), 0],\n",
    "    [0, 0, 1]  # Homogeneous coordinate\n",
    "])\n",
    "# Combine translation and rotation matrices\n",
    "translated_rotation_matrix = np.dot(translation_matrix, rotation_matrix)\n",
    "# Apply Euclidean transformation\n",
    "euclidean_points = apply_transformation(square_points, translated_rotation_matrix)\n",
    "draw_square(image, euclidean_points, (0, 0, 255))"
   ]
  },
  {
   "cell_type": "markdown",
   "metadata": {},
   "source": [
    "Affine:"
   ]
  },
  {
   "cell_type": "code",
   "execution_count": 16,
   "metadata": {},
   "outputs": [],
   "source": [
    "affine_matrix = cv2.getAffineTransform(square_points[:3].astype(np.float32), \n",
    "                                       (square_points[:3] + np.array([[10, 30], [-10, 30], [30, -30]])).astype(np.float32))\n",
    "# Convert affine transformation to a full matrix and apply\n",
    "affine_points = apply_transformation(square_points, np.vstack([affine_matrix, [0,0,1]]))\n",
    "draw_square(image, affine_points, (255, 255, 0))"
   ]
  },
  {
   "cell_type": "markdown",
   "metadata": {},
   "source": [
    "Homography"
   ]
  },
  {
   "cell_type": "code",
   "execution_count": 17,
   "metadata": {},
   "outputs": [],
   "source": [
    "homography_matrix, _ = cv2.findHomography(square_points.astype(np.float32), \n",
    "                                          (square_points + np.array([[50, -50], [100, -50], [100, 50], [50, 50]])).astype(np.float32))\n",
    "homography_points = apply_transformation(square_points, homography_matrix)\n",
    "draw_square(image, homography_points, (255, 0, 255))"
   ]
  },
  {
   "cell_type": "code",
   "execution_count": 18,
   "metadata": {},
   "outputs": [],
   "source": [
    "# Display the result\n",
    "cv2.imshow(\"Square Transformations\", image)\n",
    "cv2.waitKey(0)\n",
    "cv2.destroyAllWindows()"
   ]
  }
 ],
 "metadata": {
  "kernelspec": {
   "display_name": "Python 3",
   "language": "python",
   "name": "python3"
  },
  "language_info": {
   "codemirror_mode": {
    "name": "ipython",
    "version": 3
   },
   "file_extension": ".py",
   "mimetype": "text/x-python",
   "name": "python",
   "nbconvert_exporter": "python",
   "pygments_lexer": "ipython3",
   "version": "3.11.9"
  }
 },
 "nbformat": 4,
 "nbformat_minor": 2
}
